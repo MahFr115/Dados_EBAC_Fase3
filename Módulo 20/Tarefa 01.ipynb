{
 "cells": [
  {
   "cell_type": "markdown",
   "id": "f0ee5bd9-38d8-4bc5-872f-62d01ebfc0be",
   "metadata": {},
   "source": [
    "<img src = \"https://images.educamaisbrasil.com.br/content/internal/marketplace/educamaisbrasil/images/logo_2023.png\">"
   ]
  },
  {
   "cell_type": "markdown",
   "id": "ec32c607-68dc-4474-811b-df7bf8b35ef9",
   "metadata": {},
   "source": [
    "# <span style=\"color: orange;\"> Fórmula de Bhaskara </span>"
   ]
  },
  {
   "cell_type": "markdown",
   "id": "3548552b-b09f-4bfc-a55f-df90acb58e9e",
   "metadata": {},
   "source": [
    "Texto original na página do [educamaisbrasil](https://www.educamaisbrasil.com.br/enem/matematica/formula-de-bhaskara)"
   ]
  },
  {
   "cell_type": "markdown",
   "id": "3909ea97-2c84-467e-9f42-d3e418100355",
   "metadata": {},
   "source": [
    "## <span style=\"color: navy;\"> Método aplicado em equações do 2° grau</span>\n",
    "\n",
    "A <strong> fórmula de Bhaskara </strong> é um cálculo matemático para determinar as raízes de uma [função de segundo grau](https://www.educamaisbrasil.com.br/enem/matematica/funcao-de-segundo-grau) por meio de seus coeficientes. Esse coeficiente que multiplica a variável desconhecida (x) das equações.\n",
    "  \n",
    "A termologia da fórmula é uma homenagem ao seu criador, o professor e astrólogo indiano Bhaskara Akaria. Ele é tido como um dos principais matemáticos do século XII. "
   ]
  },
  {
   "cell_type": "markdown",
   "id": "327d321c-60c8-411e-8108-98819270dec4",
   "metadata": {},
   "source": [
    "## <span style=\"color: navy;\">Função do segundo grau</span>\n",
    "\n",
    "O nível de uma função é dado pela maior potência da <strong> variável independente</strong>. No caso dessa equação, a maior potência será 2 ($x^{2}$,), por isso é classificada como de segundo grau. Apresenta a seguinte fórmula:\n",
    "\n",
    "<strong>$$ax^{2} + bx + c = 0$$</strong>\n",
    "\n",
    "Os coeficientes dessa função são números reais (a diferente de zero) que representam a, b, c. Isto é, o coeficiente angular é o número que multiplica o $x^{2}$, o coeficiente linear é o número que multiplica x e o coeficiente constante não multiplica nenhuma variável desconhecida. Observe nos exemplos:\n",
    "\n",
    "$$x^{2} + x - 9 \\quad( a = 1; b = 1; c = - 9)$$\n",
    "$$2x^{2} - 4x + 5 \\quad (a = 2; b = - 4; c = 5)$$\n",
    "$$7x^{2} + 3x \\quad (a = 7; b = 3; c = 0)$$\n",
    "$$8x^{2} \\quad( a = 8; b = 0; c= 0)$$\n",
    "\n",
    "- Quando os coeficientes de <strong>a</strong>, <strong>b</strong> e <strong>c</strong> forem diferentes de zero a função é identificada como completa.\n",
    "-  Quando o coeficiente de <strong>a</strong> for diferente de zero, porém os de b e c iguais, a função é identificada como incompleta. "
   ]
  },
  {
   "cell_type": "markdown",
   "id": "3bdc9662-3628-4025-a671-226454d92230",
   "metadata": {},
   "source": [
    "## <span style=\"color: navy;\">Fórmula de Bhaskara</span>\n",
    "\n",
    "A solução para uma função de segundo grau depende das suas raízes (valores de x). Como já vimos, os coeficientes precisam ser números reais e o angular diferente de zero. Sendo assim, temos a seguinte fórmula de Bhaskara:\n",
    "\n",
    "$$ x = \\frac{-b \\pm \\sqrt{(b^{2} - 4*a*c)}}{2*a} $$\n",
    "$$\\textit {Fórmula de Bhaskara.}$$\n",
    "\n",
    "\n",
    "\n",
    "Para melhor compreensão o seu cálculo é dividido em duas partes: discriminante da equação e operações para determinar as raízes.<br>\n",
    "\n",
    "### <span style=\"color: navy;\">Discriminante </span>\n",
    "\n",
    "A figura dentro da raiz na fórmula de Bhaskara é nomeada de discriminante. Seu símbolo é a letra grega delta e apresenta a determinada fórmula:\n",
    "\n",
    "$$ \\Delta = b^{2} - 4*a*c$$\n",
    "\n",
    "$$\\textit {Fórmula da discriminante.}$$\n",
    "\n",
    "- Se o delta for maior que zero, a equação terá dois valores reais e distintos. <br>\n",
    "- Se o delta for igual a zero, a equação terá somente um valor real ou dois resultados iguais. <br>\n",
    "- Se o delta for menor que zero, a equação não possuirá valores reais. \n",
    "\n",
    "Portanto, é fundamental o valor de delta para definir as raízes de uma função do segundo grau. Substituindo o discriminante e os coeficientes, a fórmula de Bhaskara ficará dessa forma:\n",
    "\n",
    "$$x = \\frac{-b \\pm \\sqrt{\\Delta}}{2*a}$$\n",
    "\n",
    "$$\\textit {Substituição na fórmula.}$$\n",
    "\n",
    "\n",
    "### <span style=\"color: navy;\">Cálculo das raízes</span>\n",
    "\n",
    "\n",
    "Na fórmula aparece o sinal de “$\\pm$”. Isso indica que deve ser realizado duas operações. Na primeira, quando o valor que segue a discriminante for positivo. Já na segunda, quando o valor que segue a discriminante for negativo, ou seja:\n",
    "\n",
    "$$x^{'} = \\frac{-b + \\sqrt{\\Delta}}{2*a}$$\n",
    "$$\\textit {Fórmula de Bhaskara positiva.}$$\n",
    "\n",
    "\n",
    "\n",
    "$$x^{''} = \\frac{-b - \\sqrt{\\Delta}}{2*a}$$\n",
    "$$\\textit {Fórmula de Bhaskara negativa.}$$"
   ]
  },
  {
   "cell_type": "markdown",
   "id": "7379f10c-229a-4107-a1c4-918b9bb03887",
   "metadata": {},
   "source": [
    "## <span style=\"color: navy;\"> Aplicações</span>\n",
    "\n",
    "Entenda como encontrar as raízes dos exemplos abaixo:\n",
    "\n",
    "$$4x^{2} + 2x – 6 = 0 \\quad(a = 4; b = 2; c = - 6)$$\n",
    "\n",
    "<strong>Primeiro passo</strong>: Identifique os coeficientes da equação e encontre o valor de delta\n",
    "$$\\Delta = b^{2} - 4*a*c $$\n",
    "$$\\Delta = (2^{2}) - 4*4*(-6) $$\n",
    "$$\\Delta = 4 - 4*(-24) $$\n",
    "$$\\Delta = 4 - 96 $$\n",
    "$$\\Delta = 100 $$\n",
    "$$\\textit {Aplicação da fórmula: delta. }$$\n",
    "\n",
    "Como delta é maior que zero, a equação apresentará duas raízes reais e diferentes. \n",
    "\n",
    "<strong>Segundo passo</strong>: Com o resultado de delta, substitua na fórmula de Bhaskara\n",
    "\n",
    "$$x = \\frac{-b \\pm \\sqrt\\Delta}{2*a}$$\n",
    "$$x = \\frac{-2 \\pm \\sqrt 100}{2*4}$$\n",
    "$$x = \\frac{-2 \\pm 10}{8}$$\n",
    "$$x = \\frac{-1 \\pm 5}{4}$$\n",
    "\n",
    "$$\\textit {Aplicação da fórmula.}$$\n",
    "\n",
    "<strong>Terceiro passo</strong>: Determine o valor das raízes\n",
    "\n",
    "$$x^{'} = \\frac{-1 + 5}{4}\\quad x^{'} = \\frac{4}{4}\\quad x^{'} = 1$$\n",
    "$$x^{''}= \\frac{-1 - 5}{4}\\quad x^{''} = \\frac{4-6}{4}\\quad x^{''} = \\frac{-3}{2}$$\n",
    "$$\\textit {Cálculo das raízes.}$$\n",
    "\n",
    "Logo, as raízes dessa equação são 1 e $\\frac{-3}{2}$ .\n",
    "\n",
    "\n",
    "\n",
    "Veja em outra aplicação:\n",
    "\n",
    "\n",
    "$7x^{2} +3x +4 = 0 \\quad (a = 7; b = 3; c = 4)$\n",
    "\n",
    "$$\\Delta = b^{2} - 4*a*c $$\n",
    "$$\\Delta = (3^{2}) - 4*7*4 $$\n",
    "$$\\Delta = 9- 4*28 $$\n",
    "$$\\Delta = 9 - 112 $$\n",
    "$$\\Delta = -103 $$\n",
    "\n",
    "$$\\textit {Aplicação da fórmula: delta negativo. }$$\n",
    "\n",
    "\n",
    "\n",
    "Como delta é menor que zero, a equação não terá raízes reais, pois não existe raiz quadrada de número negativo."
   ]
  }
 ],
 "metadata": {
  "kernelspec": {
   "display_name": "Python 3 (ipykernel)",
   "language": "python",
   "name": "python3"
  },
  "language_info": {
   "codemirror_mode": {
    "name": "ipython",
    "version": 3
   },
   "file_extension": ".py",
   "mimetype": "text/x-python",
   "name": "python",
   "nbconvert_exporter": "python",
   "pygments_lexer": "ipython3",
   "version": "3.12.7"
  }
 },
 "nbformat": 4,
 "nbformat_minor": 5
}
